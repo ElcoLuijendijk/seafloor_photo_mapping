{
 "cells": [
  {
   "cell_type": "markdown",
   "metadata": {},
   "source": [
    "## Seafloor mapping combining a timelapse photos and gps track\n",
    "\n",
    "Load gps track and series of photos, tie the two together based on the time recorded by gps and photos and save as a kml file. \n",
    "\n",
    "You can also apply a time correction in case the time on the gps device or camera was incorrect.\n",
    "\n",
    "This notebook was developed to combine gopro timelapse photos of the seafloor of a hydrothermally active area at the coast of Guadeloupe with a gps track from a device that was towed along above water."
   ]
  },
  {
   "cell_type": "markdown",
   "metadata": {},
   "source": [
    "## import modules"
   ]
  },
  {
   "cell_type": "code",
   "execution_count": 1,
   "metadata": {},
   "outputs": [],
   "source": [
    "import math\n",
    "import os\n",
    "from datetime import datetime\n",
    "\n",
    "import gpxpy\n",
    "import exifread\n",
    "import natsort\n",
    "import pytz\n",
    "import simplekml\n",
    "import rasterio\n",
    "\n",
    "import numpy as np\n",
    "import matplotlib.pyplot as pl\n",
    "import geopandas as gp"
   ]
  },
  {
   "cell_type": "markdown",
   "metadata": {},
   "source": [
    "## Some filenames and parameters"
   ]
  },
  {
   "cell_type": "code",
   "execution_count": 2,
   "metadata": {},
   "outputs": [],
   "source": [
    "# gps file name\n",
    "fng = 'gps_track/track_mapping_tahiti_11aug19.gpx'\n",
    "\n",
    "# directroy with timelapse photos\n",
    "photo_dir = '/Volumes/Transcend/photogrammetry/seafloor_photos/time_lapse_11aug2019'\n",
    "#photo_dir = '/Volumes/Transcend/photogrammetry/seafloor_photos/first_100_photos_11aug2019'\n",
    "\n",
    "# timezone of photos & gps track\n",
    "timezone = \"America/Guadeloupe\"\n",
    "\n",
    "# Bathymetry file\n",
    "# this is used to calculate depth and the size of the photo overlays\n",
    "fn_bathy = 'bathymetry/bathy5m_Clip.img'\n",
    "\n",
    "# correct the time of the gopro using a reference photo and gps point\n",
    "# use this in case the time on your gps device and gopro dont match\n",
    "correct_gopro_time = True\n",
    "\n",
    "# reference gps pt and photo name for same loc\n",
    "# this is used to correct time offset between gps and gopro photos\n",
    "ref_gps_pt = 132*2\n",
    "ref_photo_name = 'G0042060.JPG'\n",
    "\n",
    "# first and last photo to include in kml files:\n",
    "first_photo = 'G0041992.JPG'\n",
    "last_photo = 'G0042657.JPG'\n",
    "\n",
    "# coordinate ref system to use for calculating distances\n",
    "# this should be an equal area projection, such as UTM\n",
    "# The bathymetry file is also assumed to use this projection\n",
    "target_epsg = 32620\n",
    "\n",
    "# interval for photos in overlay\n",
    "# ie, if this is set to 10 then only one in every 10 photos will be included\n",
    "photo_interval = 7\n",
    "\n",
    "# anlge of view of photos\n",
    "# note info from hero 7 webpage, no info on 8 found, but camera didnt change probably\n",
    "fov_angle_x = 122.6 / 2.0\n",
    "fov_angle_y = 94.4 / 2.0\n",
    "\n",
    "# photo tilt angle:\n",
    "tilt = 90.0\n",
    "\n",
    "# filenames for kml files:\n",
    "output_kml_file = 'gps_track_with_photos_11aug19'\n",
    "doc_name = 'seafloor_mapping_bouillante_11aug19'\n",
    "kml_overlay_file = 'gps_track_with_overlay_11aug19'"
   ]
  },
  {
   "cell_type": "markdown",
   "metadata": {},
   "source": [
    "## Load gps data and extract time and coordinates"
   ]
  },
  {
   "cell_type": "code",
   "execution_count": 3,
   "metadata": {},
   "outputs": [],
   "source": [
    "gpx_file = open(fng, 'r')\n",
    "gpx = gpxpy.parse(gpx_file)"
   ]
  },
  {
   "cell_type": "code",
   "execution_count": 4,
   "metadata": {},
   "outputs": [],
   "source": [
    "gps_xys = []\n",
    "gps_times = []\n",
    "for track in gpx.tracks:\n",
    "    for segment in track.segments:\n",
    "        for point in segment.points:\n",
    "            gps_xys.append([point.latitude, point.longitude])\n",
    "            gps_times.append(point.time)\n",
    "gps_xy = np.array(gps_xys)"
   ]
  },
  {
   "cell_type": "markdown",
   "metadata": {},
   "source": [
    "##  Make a figure of the track and the reference pt:"
   ]
  },
  {
   "cell_type": "code",
   "execution_count": 5,
   "metadata": {},
   "outputs": [
    {
     "name": "stdout",
     "output_type": "stream",
     "text": [
      "time just before first turn =  2019-08-11 16:11:18+00:00\n"
     ]
    },
    {
     "data": {
      "text/plain": [
       "(16.136629, 16.137414)"
      ]
     },
     "execution_count": 5,
     "metadata": {},
     "output_type": "execute_result"
    },
    {
     "data": {
      "image/png": "[encoded data removed]",
      "text/plain": [
       "<Figure size 432x288 with 1 Axes>"
      ]
     },
     "metadata": {
      "needs_background": "light"
     },
     "output_type": "display_data"
    }
   ],
   "source": [
    "xy_at_turn = gps_xy[ref_gps_pt]\n",
    "gps_time_at_turn = gps_times[ref_gps_pt]\n",
    "print('time just before first turn = ', gps_time_at_turn)\n",
    "\n",
    "fig, ax = pl.subplots(1, 1)\n",
    "\n",
    "ax.scatter(gps_xy[:, 1], gps_xy[:, 0], s=1, color='gray')\n",
    "ax.scatter(gps_xy[:ref_gps_pt, 1], gps_xy[:ref_gps_pt, 0], s=3)\n",
    "\n",
    "ax.set_xlim(gps_xy[:, 1].min(), gps_xy[:, 1].max())\n",
    "ax.set_ylim(gps_xy[:, 0].min(), gps_xy[:, 0].max())\n",
    "\n"
   ]
  },
  {
   "cell_type": "markdown",
   "metadata": {},
   "source": [
    "## Load seafloor photos"
   ]
  },
  {
   "cell_type": "code",
   "execution_count": 6,
   "metadata": {},
   "outputs": [],
   "source": [
    "photo_fns = os.listdir(photo_dir)\n",
    "photo_fns_full = [os.path.join(photo_dir, photo_fn) for photo_fn in photo_fns]\n",
    "pfns = natsort.natsorted(photo_fns_full)\n",
    "pfns_clipped = [os.path.split(pfn)[-1] for pfn in pfns]\n",
    "\n",
    "\n",
    "if first_photo in pfns_clipped:\n",
    "    id1 = pfns_clipped.index(first_photo)\n",
    "else:\n",
    "    id1 = 0\n",
    "    \n",
    "if last_photo in pfns_clipped:\n",
    "    id2 = pfns_clipped.index(last_photo)\n",
    "else:\n",
    "    id2 = -1\n",
    "    \n",
    "pfns = pfns[id1:id2]\n",
    "pfns_clipped = pfns_clipped[id1:id2]\n",
    "photo_fns_full = photo_fns_full[id1:id2]\n",
    "photo_fns = photo_fns[id1:id2]"
   ]
  },
  {
   "cell_type": "markdown",
   "metadata": {},
   "source": [
    "## Extract time from photos"
   ]
  },
  {
   "cell_type": "code",
   "execution_count": 7,
   "metadata": {},
   "outputs": [
    {
     "name": "stdout",
     "output_type": "stream",
     "text": [
      "extracting times from seafloor photos\n",
      "done\n"
     ]
    }
   ],
   "source": [
    "\n",
    "ptimes_original = []\n",
    "\n",
    "print('extracting times from seafloor photos')\n",
    "\n",
    "for pfn in pfns:\n",
    "    #'EXIF DateTimeOriginal'\n",
    "    tags = exifread.process_file(open(pfn, 'rb')) \n",
    "    t = tags['EXIF DateTimeOriginal']\n",
    "    T = datetime.strptime(str(t), '%Y:%m:%d %H:%M:%S')\n",
    "    \n",
    "    #data = gpsphoto.getGPSData(pfn)\n",
    "    #ptimes.append(data['UTC-Time'])\n",
    "    \n",
    "    local = pytz.timezone(timezone)\n",
    "    local_dt = local.localize(T, is_dst=None)\n",
    "    utc_dt = local_dt.astimezone(pytz.utc)\n",
    "    \n",
    "    ptimes_original.append(utc_dt)\n",
    "\n",
    "print('done')"
   ]
  },
  {
   "cell_type": "markdown",
   "metadata": {},
   "source": [
    "## Correct time for gopro photos\n",
    "\n",
    "The time of the gopro photos is corrected by comparing the time for a reference photo and corresponding point in the gps track, which are defined in the filenames and parameters part of this notebook"
   ]
  },
  {
   "cell_type": "code",
   "execution_count": 9,
   "metadata": {},
   "outputs": [
    {
     "name": "stdout",
     "output_type": "stream",
     "text": [
      "correcting time for gopro photos\n",
      "photo number at turn = 68\n",
      "print first and last times for photos:  2019-08-11 16:09:02+00:00 2019-08-11 16:31:10+00:00\n",
      "corrected photo time for turn =  2019-08-11 16:11:18+00:00\n",
      "gps point time just before turn =  2019-08-11 16:11:18+00:00\n",
      "G0042060.JPG [ 16.136984 -61.775162]\n"
     ]
    }
   ],
   "source": [
    "if correct_gopro_time is True:\n",
    "    print('correcting time for gopro photos')\n",
    "    photo_at_turn = pfns_clipped.index(ref_photo_name)\n",
    "\n",
    "    print('photo number at turn = %i' % photo_at_turn)\n",
    "\n",
    "    photo_time_at_turn = ptimes_original[photo_at_turn]\n",
    "    photo_time_at_turn\n",
    "\n",
    "    dt = gps_time_at_turn - photo_time_at_turn\n",
    "    ptimes = [p + dt for p in ptimes_original]\n",
    "\n",
    "    print('print first and last times for photos: ', ptimes[0], ptimes[-1])\n",
    "    print('corrected photo time for turn = ', ptimes[photo_at_turn])\n",
    "    print('gps point time just before turn = ', gps_time_at_turn)\n",
    "\n",
    "    print(pfns_clipped[photo_at_turn], gps_xy[ref_gps_pt])\n",
    "    \n",
    "else:\n",
    "    ptimes = ptimes_original"
   ]
  },
  {
   "cell_type": "markdown",
   "metadata": {},
   "source": [
    "## Find nearest GPS point for each photo"
   ]
  },
  {
   "cell_type": "code",
   "execution_count": 10,
   "metadata": {},
   "outputs": [],
   "source": [
    "def nearest_ind(time_list, target_time):\n",
    "    return np.argmin(np.array([np.abs((t - target_time).total_seconds()) for t in time_list]))\n",
    "\n",
    "gps_ind = []\n",
    "for i, ptime in enumerate(ptimes):\n",
    "    ne = nearest_ind(gps_times, ptime)\n",
    "    gps_ind.append(ne)\n",
    "    \n",
    "gps_ind_a = np.array(gps_ind)"
   ]
  },
  {
   "cell_type": "markdown",
   "metadata": {},
   "source": [
    "## Make a list of gopro photos for each GPS point"
   ]
  },
  {
   "cell_type": "code",
   "execution_count": 11,
   "metadata": {},
   "outputs": [],
   "source": [
    "photo_list = []\n",
    "photos_first = []\n",
    "photos_last = []\n",
    "for i in range(len(gps_xy)):\n",
    "    nd = np.where(gps_ind_a==i)[0]\n",
    "    \n",
    "    if len(nd) > 0:\n",
    "        photo_list.append(nd)\n",
    "        photos_first.append(pfns_clipped[nd[0]])\n",
    "        photos_last.append(pfns_clipped[nd[-1]])\n",
    "    else:\n",
    "        photo_list.append(None)\n",
    "        photos_first.append(None)\n",
    "        photos_last.append(None)"
   ]
  },
  {
   "cell_type": "markdown",
   "metadata": {},
   "source": [
    "## Generate a csv file with all gps locations and photos"
   ]
  },
  {
   "cell_type": "code",
   "execution_count": 12,
   "metadata": {},
   "outputs": [],
   "source": [
    "import pandas as pd\n",
    "\n",
    "cols = ['time', 'lat', 'long', 'gopro_photo_first', 'gopro_photo_last']\n",
    "ind = np.arange(len(gps_times))\n",
    "df = pd.DataFrame(index=ind, columns=cols)\n",
    "\n",
    "df['time'] = gps_times\n",
    "df['lat'] = gps_xy[:, 0]\n",
    "df['long'] = gps_xy[:, 1]\n",
    "\n",
    "df['gopro_photo_first'] = photos_first\n",
    "df['gopro_photo_last'] = photos_last"
   ]
  },
  {
   "cell_type": "markdown",
   "metadata": {},
   "source": [
    "## Save gps track with photo names to csv file"
   ]
  },
  {
   "cell_type": "code",
   "execution_count": 13,
   "metadata": {},
   "outputs": [
    {
     "name": "stdout",
     "output_type": "stream",
     "text": [
      "saving csv file as output/gps_track_11_aug_with_photo_ind.csv\n"
     ]
    }
   ],
   "source": [
    "fn_out = 'output/gps_track_11_aug_with_photo_ind.csv'\n",
    "print('saving csv file as %s' % fn_out)\n",
    "df.to_csv(fn_out)"
   ]
  },
  {
   "cell_type": "markdown",
   "metadata": {},
   "source": [
    "## Make a new csv file with one gps pt for each photo:"
   ]
  },
  {
   "cell_type": "code",
   "execution_count": 14,
   "metadata": {},
   "outputs": [
    {
     "data": {
      "text/html": [
       "<div>\n",
       "<style scoped>\n",
       "    .dataframe tbody tr th:only-of-type {\n",
       "        vertical-align: middle;\n",
       "    }\n",
       "\n",
       "    .dataframe tbody tr th {\n",
       "        vertical-align: top;\n",
       "    }\n",
       "\n",
       "    .dataframe thead th {\n",
       "        text-align: right;\n",
       "    }\n",
       "</style>\n",
       "<table border=\"1\" class=\"dataframe\">\n",
       "  <thead>\n",
       "    <tr style=\"text-align: right;\">\n",
       "      <th></th>\n",
       "      <th>gopro_photo_file</th>\n",
       "      <th>time</th>\n",
       "      <th>lat</th>\n",
       "      <th>long</th>\n",
       "      <th>x_utm</th>\n",
       "      <th>y_utm</th>\n",
       "      <th>dx</th>\n",
       "      <th>dy</th>\n",
       "      <th>distance</th>\n",
       "      <th>direction</th>\n",
       "      <th>estimated_depth</th>\n",
       "      <th>estimated_fov</th>\n",
       "    </tr>\n",
       "  </thead>\n",
       "  <tbody>\n",
       "    <tr>\n",
       "      <td>G0041992.JPG</td>\n",
       "      <td>/Volumes/Transcend/photogrammetry/seafloor_pho...</td>\n",
       "      <td>2019-08-11 16:09:02+00:00</td>\n",
       "      <td>16.137219</td>\n",
       "      <td>-61.774688</td>\n",
       "      <td>NaN</td>\n",
       "      <td>NaN</td>\n",
       "      <td>NaN</td>\n",
       "      <td>NaN</td>\n",
       "      <td>NaN</td>\n",
       "      <td>NaN</td>\n",
       "      <td>NaN</td>\n",
       "      <td>NaN</td>\n",
       "    </tr>\n",
       "    <tr>\n",
       "      <td>G0041993.JPG</td>\n",
       "      <td>/Volumes/Transcend/photogrammetry/seafloor_pho...</td>\n",
       "      <td>2019-08-11 16:09:04+00:00</td>\n",
       "      <td>16.137219</td>\n",
       "      <td>-61.774688</td>\n",
       "      <td>NaN</td>\n",
       "      <td>NaN</td>\n",
       "      <td>NaN</td>\n",
       "      <td>NaN</td>\n",
       "      <td>NaN</td>\n",
       "      <td>NaN</td>\n",
       "      <td>NaN</td>\n",
       "      <td>NaN</td>\n",
       "    </tr>\n",
       "    <tr>\n",
       "      <td>G0041994.JPG</td>\n",
       "      <td>/Volumes/Transcend/photogrammetry/seafloor_pho...</td>\n",
       "      <td>2019-08-11 16:09:06+00:00</td>\n",
       "      <td>16.137205</td>\n",
       "      <td>-61.774701</td>\n",
       "      <td>NaN</td>\n",
       "      <td>NaN</td>\n",
       "      <td>NaN</td>\n",
       "      <td>NaN</td>\n",
       "      <td>NaN</td>\n",
       "      <td>NaN</td>\n",
       "      <td>NaN</td>\n",
       "      <td>NaN</td>\n",
       "    </tr>\n",
       "    <tr>\n",
       "      <td>G0041995.JPG</td>\n",
       "      <td>/Volumes/Transcend/photogrammetry/seafloor_pho...</td>\n",
       "      <td>2019-08-11 16:09:08+00:00</td>\n",
       "      <td>16.137205</td>\n",
       "      <td>-61.774701</td>\n",
       "      <td>NaN</td>\n",
       "      <td>NaN</td>\n",
       "      <td>NaN</td>\n",
       "      <td>NaN</td>\n",
       "      <td>NaN</td>\n",
       "      <td>NaN</td>\n",
       "      <td>NaN</td>\n",
       "      <td>NaN</td>\n",
       "    </tr>\n",
       "    <tr>\n",
       "      <td>G0041996.JPG</td>\n",
       "      <td>/Volumes/Transcend/photogrammetry/seafloor_pho...</td>\n",
       "      <td>2019-08-11 16:09:10+00:00</td>\n",
       "      <td>16.137205</td>\n",
       "      <td>-61.774701</td>\n",
       "      <td>NaN</td>\n",
       "      <td>NaN</td>\n",
       "      <td>NaN</td>\n",
       "      <td>NaN</td>\n",
       "      <td>NaN</td>\n",
       "      <td>NaN</td>\n",
       "      <td>NaN</td>\n",
       "      <td>NaN</td>\n",
       "    </tr>\n",
       "  </tbody>\n",
       "</table>\n",
       "</div>"
      ],
      "text/plain": [
       "                                               gopro_photo_file  \\\n",
       "G0041992.JPG  /Volumes/Transcend/photogrammetry/seafloor_pho...   \n",
       "G0041993.JPG  /Volumes/Transcend/photogrammetry/seafloor_pho...   \n",
       "G0041994.JPG  /Volumes/Transcend/photogrammetry/seafloor_pho...   \n",
       "G0041995.JPG  /Volumes/Transcend/photogrammetry/seafloor_pho...   \n",
       "G0041996.JPG  /Volumes/Transcend/photogrammetry/seafloor_pho...   \n",
       "\n",
       "                                  time        lat       long x_utm y_utm   dx  \\\n",
       "G0041992.JPG 2019-08-11 16:09:02+00:00  16.137219 -61.774688   NaN   NaN  NaN   \n",
       "G0041993.JPG 2019-08-11 16:09:04+00:00  16.137219 -61.774688   NaN   NaN  NaN   \n",
       "G0041994.JPG 2019-08-11 16:09:06+00:00  16.137205 -61.774701   NaN   NaN  NaN   \n",
       "G0041995.JPG 2019-08-11 16:09:08+00:00  16.137205 -61.774701   NaN   NaN  NaN   \n",
       "G0041996.JPG 2019-08-11 16:09:10+00:00  16.137205 -61.774701   NaN   NaN  NaN   \n",
       "\n",
       "               dy distance direction estimated_depth estimated_fov  \n",
       "G0041992.JPG  NaN      NaN       NaN             NaN           NaN  \n",
       "G0041993.JPG  NaN      NaN       NaN             NaN           NaN  \n",
       "G0041994.JPG  NaN      NaN       NaN             NaN           NaN  \n",
       "G0041995.JPG  NaN      NaN       NaN             NaN           NaN  \n",
       "G0041996.JPG  NaN      NaN       NaN             NaN           NaN  "
      ]
     },
     "execution_count": 14,
     "metadata": {},
     "output_type": "execute_result"
    }
   ],
   "source": [
    "cols = ['gopro_photo_file', 'time', 'lat', 'long', 'x_utm', 'y_utm', 'dx', 'dy', 'distance',\n",
    "        'direction', 'estimated_depth', 'estimated_fov']\n",
    "\n",
    "index = pfns_clipped\n",
    "dfp = pd.DataFrame(columns=cols, index=index)\n",
    "\n",
    "dfp['gopro_photo_file'] = pfns\n",
    "dfp['time'] = ptimes\n",
    "\n",
    "photo_gps_ind = []\n",
    "for i, ptime in enumerate(ptimes):\n",
    "    ne = nearest_ind(gps_times, ptime)\n",
    "    photo_gps_ind.append(ne)\n",
    "    \n",
    "#gps_ind_a = np.array(phogps_ind)\n",
    "\n",
    "dfp['lat'] = [gps_xy[i][0] for i in photo_gps_ind]\n",
    "dfp['long'] = [gps_xy[i][1] for i in photo_gps_ind]\n",
    "\n",
    "dfp.head()\n"
   ]
  },
  {
   "cell_type": "markdown",
   "metadata": {},
   "source": [
    "## Convert to UTM zone 20N (EPSG 32620)"
   ]
  },
  {
   "cell_type": "code",
   "execution_count": 15,
   "metadata": {},
   "outputs": [
    {
     "data": {
      "text/html": [
       "<div>\n",
       "<style scoped>\n",
       "    .dataframe tbody tr th:only-of-type {\n",
       "        vertical-align: middle;\n",
       "    }\n",
       "\n",
       "    .dataframe tbody tr th {\n",
       "        vertical-align: top;\n",
       "    }\n",
       "\n",
       "    .dataframe thead th {\n",
       "        text-align: right;\n",
       "    }\n",
       "</style>\n",
       "<table border=\"1\" class=\"dataframe\">\n",
       "  <thead>\n",
       "    <tr style=\"text-align: right;\">\n",
       "      <th></th>\n",
       "      <th>gopro_photo_file</th>\n",
       "      <th>time</th>\n",
       "      <th>lat</th>\n",
       "      <th>long</th>\n",
       "      <th>x_utm</th>\n",
       "      <th>y_utm</th>\n",
       "      <th>dx</th>\n",
       "      <th>dy</th>\n",
       "      <th>distance</th>\n",
       "      <th>direction</th>\n",
       "      <th>estimated_depth</th>\n",
       "      <th>estimated_fov</th>\n",
       "      <th>coordinates</th>\n",
       "    </tr>\n",
       "  </thead>\n",
       "  <tbody>\n",
       "    <tr>\n",
       "      <td>G0041992.JPG</td>\n",
       "      <td>/Volumes/Transcend/photogrammetry/seafloor_pho...</td>\n",
       "      <td>2019-08-11 16:09:02+00:00</td>\n",
       "      <td>16.137219</td>\n",
       "      <td>-61.774688</td>\n",
       "      <td>631016.711602</td>\n",
       "      <td>1.784503e+06</td>\n",
       "      <td>NaN</td>\n",
       "      <td>NaN</td>\n",
       "      <td>NaN</td>\n",
       "      <td>NaN</td>\n",
       "      <td>NaN</td>\n",
       "      <td>NaN</td>\n",
       "      <td>POINT (631016.7116016573 1784503.293169191)</td>\n",
       "    </tr>\n",
       "    <tr>\n",
       "      <td>G0041993.JPG</td>\n",
       "      <td>/Volumes/Transcend/photogrammetry/seafloor_pho...</td>\n",
       "      <td>2019-08-11 16:09:04+00:00</td>\n",
       "      <td>16.137219</td>\n",
       "      <td>-61.774688</td>\n",
       "      <td>631016.711602</td>\n",
       "      <td>1.784503e+06</td>\n",
       "      <td>NaN</td>\n",
       "      <td>NaN</td>\n",
       "      <td>NaN</td>\n",
       "      <td>NaN</td>\n",
       "      <td>NaN</td>\n",
       "      <td>NaN</td>\n",
       "      <td>POINT (631016.7116016573 1784503.293169191)</td>\n",
       "    </tr>\n",
       "    <tr>\n",
       "      <td>G0041994.JPG</td>\n",
       "      <td>/Volumes/Transcend/photogrammetry/seafloor_pho...</td>\n",
       "      <td>2019-08-11 16:09:06+00:00</td>\n",
       "      <td>16.137205</td>\n",
       "      <td>-61.774701</td>\n",
       "      <td>631015.330602</td>\n",
       "      <td>1.784502e+06</td>\n",
       "      <td>NaN</td>\n",
       "      <td>NaN</td>\n",
       "      <td>NaN</td>\n",
       "      <td>NaN</td>\n",
       "      <td>NaN</td>\n",
       "      <td>NaN</td>\n",
       "      <td>POINT (631015.3306018645 1784501.735981411)</td>\n",
       "    </tr>\n",
       "    <tr>\n",
       "      <td>G0041995.JPG</td>\n",
       "      <td>/Volumes/Transcend/photogrammetry/seafloor_pho...</td>\n",
       "      <td>2019-08-11 16:09:08+00:00</td>\n",
       "      <td>16.137205</td>\n",
       "      <td>-61.774701</td>\n",
       "      <td>631015.330602</td>\n",
       "      <td>1.784502e+06</td>\n",
       "      <td>NaN</td>\n",
       "      <td>NaN</td>\n",
       "      <td>NaN</td>\n",
       "      <td>NaN</td>\n",
       "      <td>NaN</td>\n",
       "      <td>NaN</td>\n",
       "      <td>POINT (631015.3306018645 1784501.735981411)</td>\n",
       "    </tr>\n",
       "    <tr>\n",
       "      <td>G0041996.JPG</td>\n",
       "      <td>/Volumes/Transcend/photogrammetry/seafloor_pho...</td>\n",
       "      <td>2019-08-11 16:09:10+00:00</td>\n",
       "      <td>16.137205</td>\n",
       "      <td>-61.774701</td>\n",
       "      <td>631015.330602</td>\n",
       "      <td>1.784502e+06</td>\n",
       "      <td>NaN</td>\n",
       "      <td>NaN</td>\n",
       "      <td>NaN</td>\n",
       "      <td>NaN</td>\n",
       "      <td>NaN</td>\n",
       "      <td>NaN</td>\n",
       "      <td>POINT (631015.3306018645 1784501.735981411)</td>\n",
       "    </tr>\n",
       "  </tbody>\n",
       "</table>\n",
       "</div>"
      ],
      "text/plain": [
       "                                               gopro_photo_file  \\\n",
       "G0041992.JPG  /Volumes/Transcend/photogrammetry/seafloor_pho...   \n",
       "G0041993.JPG  /Volumes/Transcend/photogrammetry/seafloor_pho...   \n",
       "G0041994.JPG  /Volumes/Transcend/photogrammetry/seafloor_pho...   \n",
       "G0041995.JPG  /Volumes/Transcend/photogrammetry/seafloor_pho...   \n",
       "G0041996.JPG  /Volumes/Transcend/photogrammetry/seafloor_pho...   \n",
       "\n",
       "                                  time        lat       long          x_utm  \\\n",
       "G0041992.JPG 2019-08-11 16:09:02+00:00  16.137219 -61.774688  631016.711602   \n",
       "G0041993.JPG 2019-08-11 16:09:04+00:00  16.137219 -61.774688  631016.711602   \n",
       "G0041994.JPG 2019-08-11 16:09:06+00:00  16.137205 -61.774701  631015.330602   \n",
       "G0041995.JPG 2019-08-11 16:09:08+00:00  16.137205 -61.774701  631015.330602   \n",
       "G0041996.JPG 2019-08-11 16:09:10+00:00  16.137205 -61.774701  631015.330602   \n",
       "\n",
       "                     y_utm   dx   dy distance direction estimated_depth  \\\n",
       "G0041992.JPG  1.784503e+06  NaN  NaN      NaN       NaN             NaN   \n",
       "G0041993.JPG  1.784503e+06  NaN  NaN      NaN       NaN             NaN   \n",
       "G0041994.JPG  1.784502e+06  NaN  NaN      NaN       NaN             NaN   \n",
       "G0041995.JPG  1.784502e+06  NaN  NaN      NaN       NaN             NaN   \n",
       "G0041996.JPG  1.784502e+06  NaN  NaN      NaN       NaN             NaN   \n",
       "\n",
       "             estimated_fov                                  coordinates  \n",
       "G0041992.JPG           NaN  POINT (631016.7116016573 1784503.293169191)  \n",
       "G0041993.JPG           NaN  POINT (631016.7116016573 1784503.293169191)  \n",
       "G0041994.JPG           NaN  POINT (631015.3306018645 1784501.735981411)  \n",
       "G0041995.JPG           NaN  POINT (631015.3306018645 1784501.735981411)  \n",
       "G0041996.JPG           NaN  POINT (631015.3306018645 1784501.735981411)  "
      ]
     },
     "execution_count": 15,
     "metadata": {},
     "output_type": "execute_result"
    }
   ],
   "source": [
    "from shapely.geometry import Point\n",
    "\n",
    "coords = list(zip(dfp['long'].values, dfp['lat'].values))\n",
    "dfp['coordinates'] = coords\n",
    "dfp['coordinates'] = dfp['coordinates'].apply(Point)\n",
    "\n",
    "gd = gp.GeoDataFrame(dfp, geometry='coordinates')\n",
    "\n",
    "# set initial crs to WGS84 (lat/long)\n",
    "gd.crs = {'init' :'epsg:4326'}\n",
    "\n",
    "# convert to UTM\n",
    "gdu = gd.to_crs(epsg=target_epsg)\n",
    "\n",
    "# read new coordinates\n",
    "gdu['x_utm'] = gdu.geometry.x\n",
    "gdu['y_utm'] = gdu.geometry.y\n",
    "gdu.head()"
   ]
  },
  {
   "cell_type": "markdown",
   "metadata": {},
   "source": [
    "## Read bathymetry file"
   ]
  },
  {
   "cell_type": "code",
   "execution_count": 16,
   "metadata": {},
   "outputs": [],
   "source": [
    "# Open the raster and store metadata\n",
    "src = rasterio.open(fn_bathy)\n",
    "\n",
    "coords_utm = list(zip(gdu['x_utm'].values, gdu['y_utm'].values))\n",
    "\n",
    "# Sample the raster at every point location and store values in DataFrame\n",
    "gdu['estimated_depth'] = [x[0] for x in src.sample(coords_utm)]\n",
    "\n",
    "gdu['estimated_depth'].describe()\n",
    "\n",
    "not_ok = gdu['estimated_depth'] < -15.0\n",
    "gdu.loc[not_ok, 'estimated_depth'] = np.median(gdu['estimated_depth'])"
   ]
  },
  {
   "cell_type": "code",
   "execution_count": 17,
   "metadata": {},
   "outputs": [
    {
     "data": {
      "text/plain": [
       "<matplotlib.axes._subplots.AxesSubplot at 0x12311b250>"
      ]
     },
     "execution_count": 17,
     "metadata": {},
     "output_type": "execute_result"
    },
    {
     "data": {
      "image/png": "[encoded data removed]",
      "text/plain": [
       "<Figure size 432x288 with 2 Axes>"
      ]
     },
     "metadata": {
      "needs_background": "light"
     },
     "output_type": "display_data"
    }
   ],
   "source": [
    "gdu.plot(column='estimated_depth', legend=True)"
   ]
  },
  {
   "cell_type": "markdown",
   "metadata": {},
   "source": [
    "## Calculate direction of photos"
   ]
  },
  {
   "cell_type": "code",
   "execution_count": 18,
   "metadata": {},
   "outputs": [
    {
     "data": {
      "text/plain": [
       "<matplotlib.axes._subplots.AxesSubplot at 0x1234b9fd0>"
      ]
     },
     "execution_count": 18,
     "metadata": {},
     "output_type": "execute_result"
    },
    {
     "data": {
      "image/png": "[encoded data removed]",
      "text/plain": [
       "<Figure size 432x288 with 2 Axes>"
      ]
     },
     "metadata": {
      "needs_background": "light"
     },
     "output_type": "display_data"
    }
   ],
   "source": [
    "x = gdu['x_utm'].values\n",
    "y = gdu['y_utm'].values\n",
    "\n",
    "dx = np.zeros_like(x)\n",
    "dy = np.zeros_like(y)\n",
    "\n",
    "dx[1:-1] = np.diff(x, n=2)\n",
    "dx[0] = dx[1]\n",
    "dx[-1] = dx[-2]\n",
    "\n",
    "dy[1:-1] = np.diff(y, n=2)\n",
    "dy[0] = dy[1]\n",
    "dy[-1] = dy[-2]\n",
    "\n",
    "gdu['dx'] = dx\n",
    "gdu['dy'] = dy\n",
    "gdu['distance'] = np.sqrt(dx**2 + dy**2)\n",
    "gdu['angle_rad'] = np.arctan2(dx, dy)\n",
    "gdu['angle'] = np.rad2deg(np.arctan2(dx, dy))\n",
    "\n",
    "# calculate angles in degrees as well\n",
    "dx_ll = np.zeros_like(x)\n",
    "dy_ll = np.zeros_like(x)\n",
    "\n",
    "dx_ll[1:-1] = np.diff(gdu['long'], n=2)\n",
    "dx_ll[0] = dx_ll[1]\n",
    "dx_ll[-1] = dx_ll[-2]\n",
    "\n",
    "dy_ll[1:-1] = np.diff(gdu['lat'], n=2)\n",
    "dy_ll[0] = dy_ll[1]\n",
    "dy_ll[-1] = dy_ll[-2]\n",
    "\n",
    "gdu['angle_ll_rad'] = np.arctan2(dx_ll, dy_ll)\n",
    "gdu['angle_ll'] = np.rad2deg(gdu['angle_ll_rad'])\n",
    "\n",
    "gdu.plot(column='angle', legend=True)"
   ]
  },
  {
   "cell_type": "markdown",
   "metadata": {},
   "source": [
    "## Save csv with photos, coordiates and headings file"
   ]
  },
  {
   "cell_type": "code",
   "execution_count": 19,
   "metadata": {},
   "outputs": [
    {
     "name": "stdout",
     "output_type": "stream",
     "text": [
      "saving csv file as output/gopro_photos_with_coords.csv\n"
     ]
    }
   ],
   "source": [
    "fn_out = 'output/gopro_photos_with_coords.csv'\n",
    "print('saving csv file as %s' % fn_out)\n",
    "gdu.to_csv(fn_out, index_label='gopro_photo')"
   ]
  },
  {
   "cell_type": "markdown",
   "metadata": {},
   "source": [
    "## Cut out all photos with zero distance"
   ]
  },
  {
   "cell_type": "code",
   "execution_count": 20,
   "metadata": {},
   "outputs": [
    {
     "data": {
      "text/html": [
       "<div>\n",
       "<style scoped>\n",
       "    .dataframe tbody tr th:only-of-type {\n",
       "        vertical-align: middle;\n",
       "    }\n",
       "\n",
       "    .dataframe tbody tr th {\n",
       "        vertical-align: top;\n",
       "    }\n",
       "\n",
       "    .dataframe thead th {\n",
       "        text-align: right;\n",
       "    }\n",
       "</style>\n",
       "<table border=\"1\" class=\"dataframe\">\n",
       "  <thead>\n",
       "    <tr style=\"text-align: right;\">\n",
       "      <th></th>\n",
       "      <th>gopro_photo_file</th>\n",
       "      <th>time</th>\n",
       "      <th>lat</th>\n",
       "      <th>long</th>\n",
       "      <th>x_utm</th>\n",
       "      <th>y_utm</th>\n",
       "      <th>dx</th>\n",
       "      <th>dy</th>\n",
       "      <th>distance</th>\n",
       "      <th>direction</th>\n",
       "      <th>estimated_depth</th>\n",
       "      <th>estimated_fov</th>\n",
       "      <th>coordinates</th>\n",
       "      <th>angle_rad</th>\n",
       "      <th>angle</th>\n",
       "      <th>angle_ll_rad</th>\n",
       "      <th>angle_ll</th>\n",
       "    </tr>\n",
       "  </thead>\n",
       "  <tbody>\n",
       "    <tr>\n",
       "      <td>G0041992.JPG</td>\n",
       "      <td>/Volumes/Transcend/photogrammetry/seafloor_pho...</td>\n",
       "      <td>2019-08-11 16:09:02+00:00</td>\n",
       "      <td>16.137219</td>\n",
       "      <td>-61.774688</td>\n",
       "      <td>631016.711602</td>\n",
       "      <td>1.784503e+06</td>\n",
       "      <td>-1.381000</td>\n",
       "      <td>-1.557188</td>\n",
       "      <td>2.081344</td>\n",
       "      <td>NaN</td>\n",
       "      <td>-5.11</td>\n",
       "      <td>NaN</td>\n",
       "      <td>POINT (631016.7116016573 1784503.293169191)</td>\n",
       "      <td>-2.416088</td>\n",
       "      <td>-138.431624</td>\n",
       "      <td>-2.393215</td>\n",
       "      <td>-137.121096</td>\n",
       "    </tr>\n",
       "    <tr>\n",
       "      <td>G0041993.JPG</td>\n",
       "      <td>/Volumes/Transcend/photogrammetry/seafloor_pho...</td>\n",
       "      <td>2019-08-11 16:09:04+00:00</td>\n",
       "      <td>16.137219</td>\n",
       "      <td>-61.774688</td>\n",
       "      <td>631016.711602</td>\n",
       "      <td>1.784503e+06</td>\n",
       "      <td>-1.381000</td>\n",
       "      <td>-1.557188</td>\n",
       "      <td>2.081344</td>\n",
       "      <td>NaN</td>\n",
       "      <td>-5.11</td>\n",
       "      <td>NaN</td>\n",
       "      <td>POINT (631016.7116016573 1784503.293169191)</td>\n",
       "      <td>-2.416088</td>\n",
       "      <td>-138.431624</td>\n",
       "      <td>-2.393215</td>\n",
       "      <td>-137.121096</td>\n",
       "    </tr>\n",
       "    <tr>\n",
       "      <td>G0041994.JPG</td>\n",
       "      <td>/Volumes/Transcend/photogrammetry/seafloor_pho...</td>\n",
       "      <td>2019-08-11 16:09:06+00:00</td>\n",
       "      <td>16.137205</td>\n",
       "      <td>-61.774701</td>\n",
       "      <td>631015.330602</td>\n",
       "      <td>1.784502e+06</td>\n",
       "      <td>1.381000</td>\n",
       "      <td>1.557188</td>\n",
       "      <td>2.081344</td>\n",
       "      <td>NaN</td>\n",
       "      <td>-5.11</td>\n",
       "      <td>NaN</td>\n",
       "      <td>POINT (631015.3306018645 1784501.735981411)</td>\n",
       "      <td>0.725505</td>\n",
       "      <td>41.568376</td>\n",
       "      <td>0.748378</td>\n",
       "      <td>42.878904</td>\n",
       "    </tr>\n",
       "    <tr>\n",
       "      <td>G0041998.JPG</td>\n",
       "      <td>/Volumes/Transcend/photogrammetry/seafloor_pho...</td>\n",
       "      <td>2019-08-11 16:09:14+00:00</td>\n",
       "      <td>16.137205</td>\n",
       "      <td>-61.774701</td>\n",
       "      <td>631015.330602</td>\n",
       "      <td>1.784502e+06</td>\n",
       "      <td>-2.025265</td>\n",
       "      <td>-1.118453</td>\n",
       "      <td>2.313576</td>\n",
       "      <td>NaN</td>\n",
       "      <td>-5.11</td>\n",
       "      <td>NaN</td>\n",
       "      <td>POINT (631015.3306018645 1784501.735981411)</td>\n",
       "      <td>-2.075365</td>\n",
       "      <td>-118.909670</td>\n",
       "      <td>-2.055274</td>\n",
       "      <td>-117.758541</td>\n",
       "    </tr>\n",
       "    <tr>\n",
       "      <td>G0041999.JPG</td>\n",
       "      <td>/Volumes/Transcend/photogrammetry/seafloor_pho...</td>\n",
       "      <td>2019-08-11 16:09:16+00:00</td>\n",
       "      <td>16.137195</td>\n",
       "      <td>-61.774720</td>\n",
       "      <td>631013.305337</td>\n",
       "      <td>1.784501e+06</td>\n",
       "      <td>2.025265</td>\n",
       "      <td>1.118453</td>\n",
       "      <td>2.313576</td>\n",
       "      <td>NaN</td>\n",
       "      <td>-5.56</td>\n",
       "      <td>NaN</td>\n",
       "      <td>POINT (631013.3053366056 1784500.617528911)</td>\n",
       "      <td>1.066227</td>\n",
       "      <td>61.090330</td>\n",
       "      <td>1.086318</td>\n",
       "      <td>62.241459</td>\n",
       "    </tr>\n",
       "  </tbody>\n",
       "</table>\n",
       "</div>"
      ],
      "text/plain": [
       "                                               gopro_photo_file  \\\n",
       "G0041992.JPG  /Volumes/Transcend/photogrammetry/seafloor_pho...   \n",
       "G0041993.JPG  /Volumes/Transcend/photogrammetry/seafloor_pho...   \n",
       "G0041994.JPG  /Volumes/Transcend/photogrammetry/seafloor_pho...   \n",
       "G0041998.JPG  /Volumes/Transcend/photogrammetry/seafloor_pho...   \n",
       "G0041999.JPG  /Volumes/Transcend/photogrammetry/seafloor_pho...   \n",
       "\n",
       "                                  time        lat       long          x_utm  \\\n",
       "G0041992.JPG 2019-08-11 16:09:02+00:00  16.137219 -61.774688  631016.711602   \n",
       "G0041993.JPG 2019-08-11 16:09:04+00:00  16.137219 -61.774688  631016.711602   \n",
       "G0041994.JPG 2019-08-11 16:09:06+00:00  16.137205 -61.774701  631015.330602   \n",
       "G0041998.JPG 2019-08-11 16:09:14+00:00  16.137205 -61.774701  631015.330602   \n",
       "G0041999.JPG 2019-08-11 16:09:16+00:00  16.137195 -61.774720  631013.305337   \n",
       "\n",
       "                     y_utm        dx        dy  distance direction  \\\n",
       "G0041992.JPG  1.784503e+06 -1.381000 -1.557188  2.081344       NaN   \n",
       "G0041993.JPG  1.784503e+06 -1.381000 -1.557188  2.081344       NaN   \n",
       "G0041994.JPG  1.784502e+06  1.381000  1.557188  2.081344       NaN   \n",
       "G0041998.JPG  1.784502e+06 -2.025265 -1.118453  2.313576       NaN   \n",
       "G0041999.JPG  1.784501e+06  2.025265  1.118453  2.313576       NaN   \n",
       "\n",
       "              estimated_depth estimated_fov  \\\n",
       "G0041992.JPG            -5.11           NaN   \n",
       "G0041993.JPG            -5.11           NaN   \n",
       "G0041994.JPG            -5.11           NaN   \n",
       "G0041998.JPG            -5.11           NaN   \n",
       "G0041999.JPG            -5.56           NaN   \n",
       "\n",
       "                                              coordinates  angle_rad  \\\n",
       "G0041992.JPG  POINT (631016.7116016573 1784503.293169191)  -2.416088   \n",
       "G0041993.JPG  POINT (631016.7116016573 1784503.293169191)  -2.416088   \n",
       "G0041994.JPG  POINT (631015.3306018645 1784501.735981411)   0.725505   \n",
       "G0041998.JPG  POINT (631015.3306018645 1784501.735981411)  -2.075365   \n",
       "G0041999.JPG  POINT (631013.3053366056 1784500.617528911)   1.066227   \n",
       "\n",
       "                   angle  angle_ll_rad    angle_ll  \n",
       "G0041992.JPG -138.431624     -2.393215 -137.121096  \n",
       "G0041993.JPG -138.431624     -2.393215 -137.121096  \n",
       "G0041994.JPG   41.568376      0.748378   42.878904  \n",
       "G0041998.JPG -118.909670     -2.055274 -117.758541  \n",
       "G0041999.JPG   61.090330      1.086318   62.241459  "
      ]
     },
     "execution_count": 20,
     "metadata": {},
     "output_type": "execute_result"
    }
   ],
   "source": [
    "ind = gdu['distance'] > 0\n",
    "gdu2 = gdu.loc[ind]\n",
    "gdu2.head()"
   ]
  },
  {
   "cell_type": "markdown",
   "metadata": {},
   "source": [
    "## Estimate field of view for photos"
   ]
  },
  {
   "cell_type": "code",
   "execution_count": 21,
   "metadata": {},
   "outputs": [
    {
     "name": "stdout",
     "output_type": "stream",
     "text": [
      "estimated fov: count    529.000000\n",
      "mean      25.147449\n",
      "std        2.328489\n",
      "min       18.484558\n",
      "25%       23.270086\n",
      "50%       25.425400\n",
      "75%       26.813569\n",
      "max       29.553375\n",
      "Name: fov_x, dtype: float64 count    529.000000\n",
      "mean      14.867900\n",
      "std        1.376670\n",
      "min       10.928606\n",
      "25%       13.757948\n",
      "50%       15.032233\n",
      "75%       15.852958\n",
      "max       17.472811\n",
      "Name: fov_y, dtype: float64\n",
      "test distance of 1.00e-03 degr = 106.8138 m x 111.1949 m\n"
     ]
    },
    {
     "name": "stderr",
     "output_type": "stream",
     "text": [
      "/Users/elcopone/miniconda3/lib/python3.7/site-packages/ipykernel_launcher.py:31: SettingWithCopyWarning: \n",
      "A value is trying to be set on a copy of a slice from a DataFrame.\n",
      "Try using .loc[row_indexer,col_indexer] = value instead\n",
      "\n",
      "See the caveats in the documentation: http://pandas.pydata.org/pandas-docs/stable/user_guide/indexing.html#returning-a-view-versus-a-copy\n",
      "/Users/elcopone/miniconda3/lib/python3.7/site-packages/ipykernel_launcher.py:32: SettingWithCopyWarning: \n",
      "A value is trying to be set on a copy of a slice from a DataFrame.\n",
      "Try using .loc[row_indexer,col_indexer] = value instead\n",
      "\n",
      "See the caveats in the documentation: http://pandas.pydata.org/pandas-docs/stable/user_guide/indexing.html#returning-a-view-versus-a-copy\n",
      "/Users/elcopone/miniconda3/lib/python3.7/site-packages/ipykernel_launcher.py:50: SettingWithCopyWarning: \n",
      "A value is trying to be set on a copy of a slice from a DataFrame.\n",
      "Try using .loc[row_indexer,col_indexer] = value instead\n",
      "\n",
      "See the caveats in the documentation: http://pandas.pydata.org/pandas-docs/stable/user_guide/indexing.html#returning-a-view-versus-a-copy\n",
      "/Users/elcopone/miniconda3/lib/python3.7/site-packages/ipykernel_launcher.py:51: SettingWithCopyWarning: \n",
      "A value is trying to be set on a copy of a slice from a DataFrame.\n",
      "Try using .loc[row_indexer,col_indexer] = value instead\n",
      "\n",
      "See the caveats in the documentation: http://pandas.pydata.org/pandas-docs/stable/user_guide/indexing.html#returning-a-view-versus-a-copy\n"
     ]
    }
   ],
   "source": [
    "def haversine(lon1, lat1, lon2, lat2):\n",
    "\n",
    "    \"\"\"\n",
    "    Calculate the great circle distance between two points\n",
    "    on the earth (specified in decimal degrees)\n",
    "\n",
    "    https://stackoverflow.com/questions/4913349/haversine-formula-in-python-bearing-and-distance-between-two-gps-points\n",
    "    \"\"\"\n",
    "\n",
    "    # convert decimal degrees to radians\n",
    "    lon1, lat1, lon2, lat2 = map(math.radians, [lon1, lat1, lon2, lat2])\n",
    "\n",
    "    # haversine formula\n",
    "    dlon = lon2 - lon1\n",
    "    dlat = lat2 - lat1\n",
    "    a = math.sin(dlat / 2) ** 2 + math.cos(lat1) * math.cos(lat2) * math.sin(dlon / 2) ** 2\n",
    "    c = 2 * math.asin(np.sqrt(a))\n",
    "    r = 6371  # Radius of earth in kilometers. Use 3956 for miles\n",
    "\n",
    "    return c * r\n",
    "\n",
    "fov_rad_x = np.deg2rad(fov_angle_x)\n",
    "fov_rad_y = np.deg2rad(fov_angle_y)\n",
    "\n",
    "gdu2['fov_x'] = np.tan(fov_rad_x) * (-gdu2['estimated_depth']) * 2\n",
    "gdu2['fov_y'] = np.tan(fov_rad_y) * (-gdu2['estimated_depth']) * 2\n",
    "\n",
    "print('estimated fov:', gdu2['fov_x'].describe(), gdu2['fov_y'].describe())\n",
    "\n",
    "# size of photo in m\n",
    "#fov_x = 17.0\n",
    "#fov_y = 6.0\n",
    "\n",
    "# look p size of photo in latlong\n",
    "x_avg = gps_xy[:, 1].mean()\n",
    "y_avg = gps_xy[:, 0].mean()\n",
    "\n",
    "#\n",
    "test_dist = 1e-3\n",
    "dx_test = haversine(x_avg, y_avg, x_avg+test_dist, y_avg) * 1000.0\n",
    "dy_test = haversine(x_avg, y_avg, x_avg, y_avg + test_dist) * 1000.0\n",
    "print('test distance of %0.2e degr = %0.4f m x %0.4f m' % (test_dist, dx_test, dy_test))\n",
    "\n",
    "gdu2['fov_lon'] = gdu2['fov_x'] / dx_test * test_dist\n",
    "gdu2['fov_lat'] = gdu2['fov_x'] / dx_test * test_dist"
   ]
  },
  {
   "cell_type": "markdown",
   "metadata": {},
   "source": [
    "## Generate kml file with overlay"
   ]
  },
  {
   "cell_type": "code",
   "execution_count": 22,
   "metadata": {},
   "outputs": [
    {
     "name": "stdout",
     "output_type": "stream",
     "text": [
      "start constructing kml file\n",
      "saving kml file  /Volumes/Transcend/photogrammetry/seafloor_photos/gps_track_with_overlay_11aug19.kml\n",
      "saving kmz file  /Volumes/Transcend/photogrammetry/seafloor_photos/gps_track_with_overlay_11aug19.kmz\n",
      "done\n"
     ]
    }
   ],
   "source": [
    "output_dir = os.path.split(photo_dir)[0]\n",
    "\n",
    "fn_out = os.path.join(output_dir, kml_overlay_file)\n",
    "\n",
    "##################\n",
    "# generate kml file\n",
    "###################\n",
    "kml = simplekml.Kml()\n",
    "kml.document.name = doc_name\n",
    "\n",
    "df = gdu2\n",
    "\n",
    "print('start constructing kml file')\n",
    "\n",
    "for ix in df.index[::photo_interval]:\n",
    "    x = df.loc[ix, 'long']\n",
    "    y = df.loc[ix, 'lat']\n",
    "    name = ix\n",
    "    ground = kml.newgroundoverlay(name=name)\n",
    "    \n",
    "    ground.latlonbox.rotation = df.loc[ix, 'angle_ll'] + 90\n",
    "    \n",
    "    ground.icon.href = df.loc[ix, 'gopro_photo_file']\n",
    "    \n",
    "    ground.gxaltitudemode = 'clampToSeaFloor'\n",
    "    \n",
    "    ground.latlonbox.east = x + 0.5 * df.loc[ix, 'fov_lon']\n",
    "    ground.latlonbox.south = y - 0.5 * df.loc[ix, 'fov_lat']\n",
    "    ground.latlonbox.north = y + 0.5 * df.loc[ix, 'fov_lat']\n",
    "    ground.latlonbox.west = x - 0.5 * df.loc[ix, 'fov_lon']\n",
    "\n",
    "    #print('done setting up file')\n",
    "\n",
    "print('saving kml file ', fn_out + '.kml')\n",
    "kml.save(fn_out + '.kml', format=False)\n",
    "\n",
    "print('saving kmz file ', fn_out + '.kmz')\n",
    "kml.savekmz(fn_out + '.kmz', format=False)\n",
    "\n",
    "print('done')"
   ]
  },
  {
   "cell_type": "markdown",
   "metadata": {},
   "source": [
    "## Create a kml file with photo pins instead of overlay"
   ]
  },
  {
   "cell_type": "code",
   "execution_count": 30,
   "metadata": {},
   "outputs": [
    {
     "name": "stdout",
     "output_type": "stream",
     "text": [
      "start constructing kml file\n",
      "done setting up file\n",
      "saving kml file  /Volumes/Transcend/photogrammetry/seafloor_photos/time_lapse_11aug2019/gps_track_with_photos_11aug19.kml\n",
      "saving kmz file  /Volumes/Transcend/photogrammetry/seafloor_photos/time_lapse_11aug2019/gps_track_with_photos_11aug19.kmz\n",
      "done\n"
     ]
    }
   ],
   "source": [
    "add_photos = True\n",
    "\n",
    "output_dir = photo_dir\n",
    "\n",
    "fn_out = os.path.join(output_dir, output_kml_file)\n",
    "\n",
    "current_dir = os.getcwd()\n",
    "\n",
    "os.chdir(output_dir)\n",
    "\n",
    "##################\n",
    "# generate kml file\n",
    "###################\n",
    "kml = simplekml.Kml()\n",
    "kml.document.name = doc_name\n",
    "\n",
    "df = gdu2\n",
    "\n",
    "print('start constructing kml file')\n",
    "\n",
    "for ix in df.index:\n",
    "    x = df.loc[ix, 'long']\n",
    "    y = df.loc[ix, 'lat']\n",
    "    name = ix\n",
    "    pt = kml.newpoint(name=name, coords=[(x, y)])\n",
    "    \n",
    "\n",
    "    #photo_path = df.loc[ix, 'gopro_photo_file']\n",
    "    photo_path = ix\n",
    "    \n",
    "    if add_photos is True:\n",
    "        picpath = kml.addfile(photo_path)\n",
    "\n",
    "    desc = '\\n'\n",
    "    #desc += '<img src=\"' + picpath +'\" alt=\"picture\" width=\"400\" height=\"300\" align=\"left\" />'\n",
    "    desc += '<img src=\"' + ix +'\" alt=\"picture\" width=\"400\" height=\"300\" align=\"left\" />'\n",
    "\n",
    "    pt.description = desc\n",
    "\n",
    "    #pt.lookat.heading = dfi.loc[ix, 'heading']\n",
    "    pt.lookat.latitude = y\n",
    "    pt.lookat.longitude = x\n",
    "\n",
    "    # assume photo was horizontal for now\n",
    "    pt.lookat.tilt = tilt\n",
    "    \n",
    "    pt.lookat.heading = df.loc[ix, 'angle']\n",
    "\n",
    "print('done setting up file')\n",
    "\n",
    "print('saving kml file ', fn_out + '.kml')\n",
    "kml.save(fn_out + '.kml', format=False)\n",
    "\n",
    "print('saving kmz file ', fn_out + '.kmz')\n",
    "kml.savekmz(fn_out + '.kmz', format=False)\n",
    "\n",
    "os.chdir(current_dir)\n",
    "\n",
    "print('done')"
   ]
  }
 ],
 "metadata": {
  "kernelspec": {
   "display_name": "Python 3",
   "language": "python",
   "name": "python3"
  },
  "language_info": {
   "codemirror_mode": {
    "name": "ipython",
    "version": 3
   },
   "file_extension": ".py",
   "mimetype": "text/x-python",
   "name": "python",
   "nbconvert_exporter": "python",
   "pygments_lexer": "ipython3",
   "version": "3.7.4"
  }
 },
 "nbformat": 4,
 "nbformat_minor": 4
}
